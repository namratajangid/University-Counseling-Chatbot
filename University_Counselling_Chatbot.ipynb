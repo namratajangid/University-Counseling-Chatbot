{
  "nbformat": 4,
  "nbformat_minor": 0,
  "metadata": {
    "colab": {
      "name": "University Counselling Chatbot.ipynb",
      "provenance": [],
      "collapsed_sections": [],
      "include_colab_link": true
    },
    "kernelspec": {
      "name": "python3",
      "display_name": "Python 3"
    }
  },
  "cells": [
    {
      "cell_type": "markdown",
      "metadata": {
        "id": "view-in-github",
        "colab_type": "text"
      },
      "source": [
        "<a href=\"https://colab.research.google.com/github/namratajangid/University-Couseling-Chatbot/blob/master/University_Counselling_Chatbot.ipynb\" target=\"_parent\"><img src=\"https://colab.research.google.com/assets/colab-badge.svg\" alt=\"Open In Colab\"/></a>"
      ]
    },
    {
      "cell_type": "markdown",
      "metadata": {
        "id": "CNW0m22UcRVs",
        "colab_type": "text"
      },
      "source": [
        "## **Importing Libraries**"
      ]
    },
    {
      "cell_type": "code",
      "metadata": {
        "id": "leXNlTAtcNat",
        "colab_type": "code",
        "colab": {}
      },
      "source": [
        "# importing chat-bot intents file\n",
        "import json\n",
        "with open('intents.json') as json_data:\n",
        "    intents = json.load(json_data)"
      ],
      "execution_count": 0,
      "outputs": []
    },
    {
      "cell_type": "code",
      "metadata": {
        "id": "IxtztHsBdbUp",
        "colab_type": "code",
        "colab": {}
      },
      "source": [
        "# importing libraries required for NLP\n",
        "import nltk\n",
        "nltk.download('punkt')\n",
        "from nltk.stem.lancaster import LancasterStemmer\n",
        "from nltk.stem import WordNetLemmatizer\n",
        "nltk.download('wordnet')\n",
        "stemmer = LancasterStemmer()\n",
        "lemmatizer = WordNetLemmatizer()\n",
        "\n",
        "import numpy as np\n",
        "import random\n",
        "\n",
        "from tensorflow import keras\n",
        "from keras.models import Sequential\n",
        "from keras.layers import Dense, Activation, Dropout\n",
        "from keras import utils\n",
        "from keras import layers\n",
        "\n",
        "import matplotlib.pyplot as plt"
      ],
      "execution_count": 0,
      "outputs": []
    },
    {
      "cell_type": "markdown",
      "metadata": {
        "id": "IxWU6hZBbtZr",
        "colab_type": "text"
      },
      "source": [
        "## **Processing**"
      ]
    },
    {
      "cell_type": "code",
      "metadata": {
        "id": "y3nsiO1ydwM5",
        "colab_type": "code",
        "colab": {}
      },
      "source": [
        "words = []\n",
        "classes = []\n",
        "documents = []\n",
        "ignore_words = ['?']\n",
        "# loop through each sentence in our intents patterns\n",
        "for intent in intents['intents']:\n",
        "    for pattern in intent['patterns']:\n",
        "        # tokenize each word in the sentence\n",
        "        w = nltk.word_tokenize(pattern)\n",
        "        # add to our words list\n",
        "        words.extend(w)\n",
        "        # add to documents in our corpus\n",
        "        documents.append((w, intent['tag']))\n",
        "        # add to our classes list\n",
        "        if intent['tag'] not in classes:\n",
        "            classes.append(intent['tag'])\n",
        "\n",
        "# stem and lower each word and remove duplicates\n",
        "words = [lemmatizer.lemmatize(w.lower()) for w in words if w not in ignore_words]\n",
        "words = sorted(list(set(words)))\n",
        "\n",
        "# remove duplicates\n",
        "classes = sorted(list(set(classes)))\n",
        "\n",
        "print (len(documents), \"documents\", documents)\n",
        "print (len(classes), \"classes\", classes)\n",
        "print (len(words), \"unique stemmed words\", words)"
      ],
      "execution_count": 0,
      "outputs": []
    },
    {
      "cell_type": "code",
      "metadata": {
        "id": "_3EOTvdmd2EJ",
        "colab_type": "code",
        "colab": {}
      },
      "source": [
        "# create our training data\n",
        "training = []\n",
        "output = []\n",
        "# create an empty array for our output\n",
        "output_empty = [0] * len(classes)\n",
        "\n",
        "# training set, bag of words for each sentence\n",
        "for doc in documents:\n",
        "    # initialize our bag of words\n",
        "    bag = []\n",
        "    # list of tokenized words for the pattern\n",
        "    pattern_words = doc[0]\n",
        "    # stem each word\n",
        "    pattern_words = [lemmatizer.lemmatize(word.lower()) for word in pattern_words]\n",
        "    # create our bag of words array\n",
        "    for w in words:\n",
        "        bag.append(1) if w in pattern_words else bag.append(0)\n",
        "\n",
        "    # output is a '0' for each tag and '1' for current tag\n",
        "    output_row = list(output_empty)\n",
        "    #print(classes.index(doc[1]))\n",
        "    output_row[classes.index(doc[1])] = 1\n",
        "\n",
        "    training.append([bag, output_row])\n",
        "    #print(pattern_words)p"
      ],
      "execution_count": 0,
      "outputs": []
    },
    {
      "cell_type": "code",
      "metadata": {
        "id": "YlZ6rQ6Pd59E",
        "colab_type": "code",
        "colab": {}
      },
      "source": [
        "# shuffle our features and turn into np.array\n",
        "random.shuffle(training)\n",
        "training = np.array(training)\n",
        "\n",
        "# create train and test lists\n",
        "train_x = list(training[:,0])  #prints the first column of the matrix (patterns)\n",
        "train_y = list(training[:,1])  #prints the second column of the matrix (tags/context)\n",
        "print(train_x)\n",
        "print(train_y) \n",
        "print(len(train_x))\n",
        "print(len(train_y))"
      ],
      "execution_count": 0,
      "outputs": []
    },
    {
      "cell_type": "code",
      "metadata": {
        "id": "l-rND5freA4A",
        "colab_type": "code",
        "outputId": "35e135f7-28ff-4c0b-f4d5-6c583b720ce3",
        "colab": {
          "base_uri": "https://localhost:8080/",
          "height": 666
        }
      },
      "source": [
        "model = Sequential()\n",
        "model.add(Dense(40, input_shape=[len(train_x[0])]))\n",
        "model.add(Dropout(0.2))\n",
        "model.add(Dense(40))\n",
        "#model.add(Dense(40))\n",
        "model.add(Dense(len(train_y[0]), activation='softmax'))\n",
        "\n",
        "#model.summary()\n",
        "#model.compile(loss='categorical_crossentropy', optimizer='adam', metrics=['acc'])\n",
        "#history = model.fit(np.array(train_x), np.array(train_y), epochs=500, batch_size=16)\n",
        "#print(len(model.weights)) 6\n",
        "\n",
        "\n",
        "#Taken from a pervious version \n",
        "#model = Sequential()\n",
        "#model.add(Dense(40, input_shape=[len(train_x[0],)]))\n",
        "#model.add(Dropout(0.20))\n",
        "#model.add(Dense(40))\n",
        "#model.add(Dense(len(train_y[0]), activation='softmax'))\n",
        "\n",
        "model.summary()\n",
        "model.compile(loss='categorical_crossentropy', optimizer='adam', metrics=['acc'])\n",
        "es = keras.callbacks.EarlyStopping(monitor='loss', mode='min', verbose=1, baseline = '0.01', patience=20)\n",
        "history = model.fit(np.array(train_x), np.array(train_y), epochs=100, batch_size=16, callbacks = es)\n",
        "\n",
        "\n"
      ],
      "execution_count": 19,
      "outputs": [
        {
          "output_type": "stream",
          "text": [
            "Model: \"sequential_3\"\n",
            "_________________________________________________________________\n",
            "Layer (type)                 Output Shape              Param #   \n",
            "=================================================================\n",
            "dense_7 (Dense)              (None, 40)                13480     \n",
            "_________________________________________________________________\n",
            "dropout_2 (Dropout)          (None, 40)                0         \n",
            "_________________________________________________________________\n",
            "dense_8 (Dense)              (None, 40)                1640      \n",
            "_________________________________________________________________\n",
            "dense_9 (Dense)              (None, 60)                2460      \n",
            "=================================================================\n",
            "Total params: 17,580\n",
            "Trainable params: 17,580\n",
            "Non-trainable params: 0\n",
            "_________________________________________________________________\n"
          ],
          "name": "stdout"
        },
        {
          "output_type": "error",
          "ename": "TypeError",
          "evalue": "ignored",
          "traceback": [
            "\u001b[0;31m---------------------------------------------------------------------------\u001b[0m",
            "\u001b[0;31mTypeError\u001b[0m                                 Traceback (most recent call last)",
            "\u001b[0;32m<ipython-input-19-6ffea55d1670>\u001b[0m in \u001b[0;36m<module>\u001b[0;34m()\u001b[0m\n\u001b[1;32m     22\u001b[0m \u001b[0mmodel\u001b[0m\u001b[0;34m.\u001b[0m\u001b[0mcompile\u001b[0m\u001b[0;34m(\u001b[0m\u001b[0mloss\u001b[0m\u001b[0;34m=\u001b[0m\u001b[0;34m'categorical_crossentropy'\u001b[0m\u001b[0;34m,\u001b[0m \u001b[0moptimizer\u001b[0m\u001b[0;34m=\u001b[0m\u001b[0;34m'adam'\u001b[0m\u001b[0;34m,\u001b[0m \u001b[0mmetrics\u001b[0m\u001b[0;34m=\u001b[0m\u001b[0;34m[\u001b[0m\u001b[0;34m'acc'\u001b[0m\u001b[0;34m]\u001b[0m\u001b[0;34m)\u001b[0m\u001b[0;34m\u001b[0m\u001b[0;34m\u001b[0m\u001b[0m\n\u001b[1;32m     23\u001b[0m \u001b[0mes\u001b[0m \u001b[0;34m=\u001b[0m \u001b[0mkeras\u001b[0m\u001b[0;34m.\u001b[0m\u001b[0mcallbacks\u001b[0m\u001b[0;34m.\u001b[0m\u001b[0mEarlyStopping\u001b[0m\u001b[0;34m(\u001b[0m\u001b[0mmonitor\u001b[0m\u001b[0;34m=\u001b[0m\u001b[0;34m'loss'\u001b[0m\u001b[0;34m,\u001b[0m \u001b[0mmode\u001b[0m\u001b[0;34m=\u001b[0m\u001b[0;34m'min'\u001b[0m\u001b[0;34m,\u001b[0m \u001b[0mverbose\u001b[0m\u001b[0;34m=\u001b[0m\u001b[0;36m1\u001b[0m\u001b[0;34m,\u001b[0m \u001b[0mbaseline\u001b[0m \u001b[0;34m=\u001b[0m \u001b[0;34m'0.01'\u001b[0m\u001b[0;34m,\u001b[0m \u001b[0mpatience\u001b[0m\u001b[0;34m=\u001b[0m\u001b[0;36m20\u001b[0m\u001b[0;34m)\u001b[0m\u001b[0;34m\u001b[0m\u001b[0;34m\u001b[0m\u001b[0m\n\u001b[0;32m---> 24\u001b[0;31m \u001b[0mhistory\u001b[0m \u001b[0;34m=\u001b[0m \u001b[0mmodel\u001b[0m\u001b[0;34m.\u001b[0m\u001b[0mfit\u001b[0m\u001b[0;34m(\u001b[0m\u001b[0mnp\u001b[0m\u001b[0;34m.\u001b[0m\u001b[0marray\u001b[0m\u001b[0;34m(\u001b[0m\u001b[0mtrain_x\u001b[0m\u001b[0;34m)\u001b[0m\u001b[0;34m,\u001b[0m \u001b[0mnp\u001b[0m\u001b[0;34m.\u001b[0m\u001b[0marray\u001b[0m\u001b[0;34m(\u001b[0m\u001b[0mtrain_y\u001b[0m\u001b[0;34m)\u001b[0m\u001b[0;34m,\u001b[0m \u001b[0mepochs\u001b[0m\u001b[0;34m=\u001b[0m\u001b[0;36m100\u001b[0m\u001b[0;34m,\u001b[0m \u001b[0mbatch_size\u001b[0m\u001b[0;34m=\u001b[0m\u001b[0;36m16\u001b[0m\u001b[0;34m,\u001b[0m \u001b[0mcallbacks\u001b[0m \u001b[0;34m=\u001b[0m \u001b[0mes\u001b[0m\u001b[0;34m)\u001b[0m\u001b[0;34m\u001b[0m\u001b[0;34m\u001b[0m\u001b[0m\n\u001b[0m\u001b[1;32m     25\u001b[0m \u001b[0;34m\u001b[0m\u001b[0m\n\u001b[1;32m     26\u001b[0m \u001b[0;34m\u001b[0m\u001b[0m\n",
            "\u001b[0;32m/usr/local/lib/python3.6/dist-packages/keras/engine/training.py\u001b[0m in \u001b[0;36mfit\u001b[0;34m(self, x, y, batch_size, epochs, verbose, callbacks, validation_split, validation_data, shuffle, class_weight, sample_weight, initial_epoch, steps_per_epoch, validation_steps, validation_freq, max_queue_size, workers, use_multiprocessing, **kwargs)\u001b[0m\n\u001b[1;32m   1176\u001b[0m                                         \u001b[0msteps_per_epoch\u001b[0m\u001b[0;34m=\u001b[0m\u001b[0msteps_per_epoch\u001b[0m\u001b[0;34m,\u001b[0m\u001b[0;34m\u001b[0m\u001b[0;34m\u001b[0m\u001b[0m\n\u001b[1;32m   1177\u001b[0m                                         \u001b[0mvalidation_steps\u001b[0m\u001b[0;34m=\u001b[0m\u001b[0mvalidation_steps\u001b[0m\u001b[0;34m,\u001b[0m\u001b[0;34m\u001b[0m\u001b[0;34m\u001b[0m\u001b[0m\n\u001b[0;32m-> 1178\u001b[0;31m                                         validation_freq=validation_freq)\n\u001b[0m\u001b[1;32m   1179\u001b[0m \u001b[0;34m\u001b[0m\u001b[0m\n\u001b[1;32m   1180\u001b[0m     def evaluate(self,\n",
            "\u001b[0;32m/usr/local/lib/python3.6/dist-packages/keras/engine/training_arrays.py\u001b[0m in \u001b[0;36mfit_loop\u001b[0;34m(model, fit_function, fit_inputs, out_labels, batch_size, epochs, verbose, callbacks, val_function, val_inputs, shuffle, callback_metrics, initial_epoch, steps_per_epoch, validation_steps, validation_freq)\u001b[0m\n\u001b[1;32m    115\u001b[0m                 \u001b[0mcount_mode\u001b[0m\u001b[0;34m,\u001b[0m\u001b[0;34m\u001b[0m\u001b[0;34m\u001b[0m\u001b[0m\n\u001b[1;32m    116\u001b[0m                 stateful_metrics=model.stateful_metric_names))\n\u001b[0;32m--> 117\u001b[0;31m     \u001b[0m_callbacks\u001b[0m \u001b[0;34m+=\u001b[0m \u001b[0;34m(\u001b[0m\u001b[0mcallbacks\u001b[0m \u001b[0;32mor\u001b[0m \u001b[0;34m[\u001b[0m\u001b[0;34m]\u001b[0m\u001b[0;34m)\u001b[0m \u001b[0;34m+\u001b[0m \u001b[0;34m[\u001b[0m\u001b[0mmodel\u001b[0m\u001b[0;34m.\u001b[0m\u001b[0mhistory\u001b[0m\u001b[0;34m]\u001b[0m\u001b[0;34m\u001b[0m\u001b[0;34m\u001b[0m\u001b[0m\n\u001b[0m\u001b[1;32m    118\u001b[0m     \u001b[0mcallbacks\u001b[0m \u001b[0;34m=\u001b[0m \u001b[0mcbks\u001b[0m\u001b[0;34m.\u001b[0m\u001b[0mCallbackList\u001b[0m\u001b[0;34m(\u001b[0m\u001b[0m_callbacks\u001b[0m\u001b[0;34m)\u001b[0m\u001b[0;34m\u001b[0m\u001b[0;34m\u001b[0m\u001b[0m\n\u001b[1;32m    119\u001b[0m     \u001b[0mout_labels\u001b[0m \u001b[0;34m=\u001b[0m \u001b[0mout_labels\u001b[0m \u001b[0;32mor\u001b[0m \u001b[0;34m[\u001b[0m\u001b[0;34m]\u001b[0m\u001b[0;34m\u001b[0m\u001b[0;34m\u001b[0m\u001b[0m\n",
            "\u001b[0;31mTypeError\u001b[0m: unsupported operand type(s) for +: 'EarlyStopping' and 'list'"
          ]
        }
      ]
    },
    {
      "cell_type": "code",
      "metadata": {
        "id": "1OTtLqUKeFhA",
        "colab_type": "code",
        "outputId": "c338b515-92d2-4367-fafd-d41a0d351873",
        "colab": {
          "base_uri": "https://localhost:8080/",
          "height": 545
        }
      },
      "source": [
        "model.save('model_ChatBot.h5')\n",
        "history_dict = history.history\n",
        "history_dict.keys()\n",
        "acc = history.history['acc']\n",
        "loss = history.history['loss']\n",
        "epochs = range(1, len(acc) + 1)\n",
        "plt.plot(epochs, acc,'bo', label='Training acc')\n",
        "plt.title('Training and validation accuracy')\n",
        "plt.legend()\n",
        "plt.figure()\n",
        "plt.plot(epochs, loss, 'bo', label='Training loss')\n",
        "plt.title('Training and validation loss')\n",
        "plt.legend()\n",
        "plt.show()"
      ],
      "execution_count": 20,
      "outputs": [
        {
          "output_type": "display_data",
          "data": {
            "image/png": "[encoded data removed]",
            "text/plain": [
              "<Figure size 432x288 with 1 Axes>"
            ]
          },
          "metadata": {
            "tags": []
          }
        },
        {
          "output_type": "display_data",
          "data": {
            "image/png": "[encoded data removed]",
            "text/plain": [
              "<Figure size 432x288 with 1 Axes>"
            ]
          },
          "metadata": {
            "tags": []
          }
        }
      ]
    },
    {
      "cell_type": "code",
      "metadata": {
        "id": "cJrG1I-oZq0D",
        "colab_type": "code",
        "outputId": "26ae7b17-c122-4349-9c0e-95faf6478158",
        "colab": {
          "base_uri": "https://localhost:8080/",
          "height": 1000
        }
      },
      "source": [
        "model = Sequential()\n",
        "model.add(Dense(40, input_shape=[len(train_x[0],)]))\n",
        "model.add(Dense(40))\n",
        "#model.add(Dense(40))\n",
        "model.add(Dense(len(train_y[0]), activation='softmax'))\n",
        "\n",
        "\n",
        "model.summary()\n",
        "model.compile(loss='categorical_crossentropy', optimizer='adam', metrics=['acc'])\n",
        "history = model.fit(np.array(train_x), np.array(train_y), epochs=100, batch_size=16)\n"
      ],
      "execution_count": 22,
      "outputs": [
        {
          "output_type": "stream",
          "text": [
            "Model: \"sequential_5\"\n",
            "_________________________________________________________________\n",
            "Layer (type)                 Output Shape              Param #   \n",
            "=================================================================\n",
            "dense_13 (Dense)             (None, 40)                13480     \n",
            "_________________________________________________________________\n",
            "dense_14 (Dense)             (None, 40)                1640      \n",
            "_________________________________________________________________\n",
            "dense_15 (Dense)             (None, 60)                2460      \n",
            "=================================================================\n",
            "Total params: 17,580\n",
            "Trainable params: 17,580\n",
            "Non-trainable params: 0\n",
            "_________________________________________________________________\n",
            "Epoch 1/100\n",
            "1016/1016 [==============================] - 1s 534us/step - loss: 3.9983 - acc: 0.0817\n",
            "Epoch 2/100\n",
            "1016/1016 [==============================] - 0s 102us/step - loss: 3.6463 - acc: 0.2894\n",
            "Epoch 3/100\n",
            "1016/1016 [==============================] - 0s 98us/step - loss: 3.0592 - acc: 0.4272\n",
            "Epoch 4/100\n",
            "1016/1016 [==============================] - 0s 101us/step - loss: 2.3256 - acc: 0.6112\n",
            "Epoch 5/100\n",
            "1016/1016 [==============================] - 0s 112us/step - loss: 1.6644 - acc: 0.7500\n",
            "Epoch 6/100\n",
            "1016/1016 [==============================] - 0s 97us/step - loss: 1.1564 - acc: 0.8425\n",
            "Epoch 7/100\n",
            "1016/1016 [==============================] - 0s 93us/step - loss: 0.8082 - acc: 0.8819\n",
            "Epoch 8/100\n",
            "1016/1016 [==============================] - 0s 97us/step - loss: 0.5808 - acc: 0.9134\n",
            "Epoch 9/100\n",
            "1016/1016 [==============================] - 0s 102us/step - loss: 0.4356 - acc: 0.9380\n",
            "Epoch 10/100\n",
            "1016/1016 [==============================] - 0s 114us/step - loss: 0.3374 - acc: 0.9596\n",
            "Epoch 11/100\n",
            "1016/1016 [==============================] - 0s 101us/step - loss: 0.2682 - acc: 0.9744\n",
            "Epoch 12/100\n",
            "1016/1016 [==============================] - 0s 102us/step - loss: 0.2171 - acc: 0.9803\n",
            "Epoch 13/100\n",
            "1016/1016 [==============================] - 0s 115us/step - loss: 0.1793 - acc: 0.9793\n",
            "Epoch 14/100\n",
            "1016/1016 [==============================] - 0s 101us/step - loss: 0.1498 - acc: 0.9813\n",
            "Epoch 15/100\n",
            "1016/1016 [==============================] - 0s 106us/step - loss: 0.1266 - acc: 0.9813\n",
            "Epoch 16/100\n",
            "1016/1016 [==============================] - 0s 101us/step - loss: 0.1085 - acc: 0.9882\n",
            "Epoch 17/100\n",
            "1016/1016 [==============================] - 0s 101us/step - loss: 0.0960 - acc: 0.9872\n",
            "Epoch 18/100\n",
            "1016/1016 [==============================] - 0s 102us/step - loss: 0.0829 - acc: 0.9882\n",
            "Epoch 19/100\n",
            "1016/1016 [==============================] - 0s 101us/step - loss: 0.0748 - acc: 0.9892\n",
            "Epoch 20/100\n",
            "1016/1016 [==============================] - 0s 101us/step - loss: 0.0683 - acc: 0.9902\n",
            "Epoch 21/100\n",
            "1016/1016 [==============================] - 0s 96us/step - loss: 0.0612 - acc: 0.9921\n",
            "Epoch 22/100\n",
            "1016/1016 [==============================] - 0s 110us/step - loss: 0.0556 - acc: 0.9892\n",
            "Epoch 23/100\n",
            "1016/1016 [==============================] - 0s 97us/step - loss: 0.0516 - acc: 0.9921\n",
            "Epoch 24/100\n",
            "1016/1016 [==============================] - 0s 94us/step - loss: 0.0474 - acc: 0.9902\n",
            "Epoch 25/100\n",
            "1016/1016 [==============================] - 0s 103us/step - loss: 0.0452 - acc: 0.9902\n",
            "Epoch 26/100\n",
            "1016/1016 [==============================] - 0s 112us/step - loss: 0.0428 - acc: 0.9902\n",
            "Epoch 27/100\n",
            "1016/1016 [==============================] - 0s 103us/step - loss: 0.0404 - acc: 0.9902\n",
            "Epoch 28/100\n",
            "1016/1016 [==============================] - 0s 118us/step - loss: 0.0373 - acc: 0.9902\n",
            "Epoch 29/100\n",
            "1016/1016 [==============================] - 0s 115us/step - loss: 0.0351 - acc: 0.9921\n",
            "Epoch 30/100\n",
            "1016/1016 [==============================] - 0s 110us/step - loss: 0.0334 - acc: 0.9911\n",
            "Epoch 31/100\n",
            "1016/1016 [==============================] - 0s 114us/step - loss: 0.0317 - acc: 0.9911\n",
            "Epoch 32/100\n",
            "1016/1016 [==============================] - 0s 114us/step - loss: 0.0300 - acc: 0.9902\n",
            "Epoch 33/100\n",
            "1016/1016 [==============================] - 0s 119us/step - loss: 0.0282 - acc: 0.9911\n",
            "Epoch 34/100\n",
            "1016/1016 [==============================] - 0s 116us/step - loss: 0.0272 - acc: 0.9892\n",
            "Epoch 35/100\n",
            "1016/1016 [==============================] - 0s 114us/step - loss: 0.0281 - acc: 0.9902\n",
            "Epoch 36/100\n",
            "1016/1016 [==============================] - 0s 118us/step - loss: 0.0253 - acc: 0.9902\n",
            "Epoch 37/100\n",
            "1016/1016 [==============================] - 0s 117us/step - loss: 0.0250 - acc: 0.9911\n",
            "Epoch 38/100\n",
            "1016/1016 [==============================] - 0s 116us/step - loss: 0.0251 - acc: 0.9882\n",
            "Epoch 39/100\n",
            "1016/1016 [==============================] - 0s 113us/step - loss: 0.0264 - acc: 0.9882\n",
            "Epoch 40/100\n",
            "1016/1016 [==============================] - 0s 112us/step - loss: 0.0243 - acc: 0.9892\n",
            "Epoch 41/100\n",
            "1016/1016 [==============================] - 0s 114us/step - loss: 0.0245 - acc: 0.9892\n",
            "Epoch 42/100\n",
            "1016/1016 [==============================] - 0s 120us/step - loss: 0.0254 - acc: 0.9872\n",
            "Epoch 43/100\n",
            "1016/1016 [==============================] - 0s 122us/step - loss: 0.0230 - acc: 0.9892\n",
            "Epoch 44/100\n",
            "1016/1016 [==============================] - 0s 118us/step - loss: 0.0241 - acc: 0.9872\n",
            "Epoch 45/100\n",
            "1016/1016 [==============================] - 0s 118us/step - loss: 0.0227 - acc: 0.9892\n",
            "Epoch 46/100\n",
            "1016/1016 [==============================] - 0s 119us/step - loss: 0.0210 - acc: 0.9892\n",
            "Epoch 47/100\n",
            "1016/1016 [==============================] - 0s 120us/step - loss: 0.0218 - acc: 0.9892\n",
            "Epoch 48/100\n",
            "1016/1016 [==============================] - 0s 121us/step - loss: 0.0213 - acc: 0.9872\n",
            "Epoch 49/100\n",
            "1016/1016 [==============================] - 0s 122us/step - loss: 0.0198 - acc: 0.9902\n",
            "Epoch 50/100\n",
            "1016/1016 [==============================] - 0s 160us/step - loss: 0.0207 - acc: 0.9902\n",
            "Epoch 51/100\n",
            "1016/1016 [==============================] - 0s 119us/step - loss: 0.0193 - acc: 0.9902\n",
            "Epoch 52/100\n",
            "1016/1016 [==============================] - 0s 123us/step - loss: 0.0196 - acc: 0.9882\n",
            "Epoch 53/100\n",
            "1016/1016 [==============================] - 0s 121us/step - loss: 0.0206 - acc: 0.9902\n",
            "Epoch 54/100\n",
            "1016/1016 [==============================] - 0s 114us/step - loss: 0.0184 - acc: 0.9911\n",
            "Epoch 55/100\n",
            "1016/1016 [==============================] - 0s 120us/step - loss: 0.0194 - acc: 0.9872\n",
            "Epoch 56/100\n",
            "1016/1016 [==============================] - 0s 117us/step - loss: 0.0188 - acc: 0.9911\n",
            "Epoch 57/100\n",
            "1016/1016 [==============================] - 0s 109us/step - loss: 0.0181 - acc: 0.9892\n",
            "Epoch 58/100\n",
            "1016/1016 [==============================] - 0s 117us/step - loss: 0.0197 - acc: 0.9892\n",
            "Epoch 59/100\n",
            "1016/1016 [==============================] - 0s 115us/step - loss: 0.0185 - acc: 0.9911\n",
            "Epoch 60/100\n",
            "1016/1016 [==============================] - 0s 118us/step - loss: 0.0186 - acc: 0.9892\n",
            "Epoch 61/100\n",
            "1016/1016 [==============================] - 0s 116us/step - loss: 0.0166 - acc: 0.9911\n",
            "Epoch 62/100\n",
            "1016/1016 [==============================] - 0s 128us/step - loss: 0.0171 - acc: 0.9872\n",
            "Epoch 63/100\n",
            "1016/1016 [==============================] - 0s 119us/step - loss: 0.0174 - acc: 0.9882\n",
            "Epoch 64/100\n",
            "1016/1016 [==============================] - 0s 119us/step - loss: 0.0168 - acc: 0.9892\n",
            "Epoch 65/100\n",
            "1016/1016 [==============================] - 0s 120us/step - loss: 0.0162 - acc: 0.9902\n",
            "Epoch 66/100\n",
            "1016/1016 [==============================] - 0s 118us/step - loss: 0.0167 - acc: 0.9892\n",
            "Epoch 67/100\n",
            "1016/1016 [==============================] - 0s 124us/step - loss: 0.0168 - acc: 0.9911\n",
            "Epoch 68/100\n",
            "1016/1016 [==============================] - 0s 131us/step - loss: 0.0185 - acc: 0.9911\n",
            "Epoch 69/100\n",
            "1016/1016 [==============================] - 0s 133us/step - loss: 0.0172 - acc: 0.9921\n",
            "Epoch 70/100\n",
            "1016/1016 [==============================] - 0s 124us/step - loss: 0.0155 - acc: 0.9902\n",
            "Epoch 71/100\n",
            "1016/1016 [==============================] - 0s 133us/step - loss: 0.0159 - acc: 0.9902\n",
            "Epoch 72/100\n",
            "1016/1016 [==============================] - 0s 121us/step - loss: 0.0162 - acc: 0.9902\n",
            "Epoch 73/100\n",
            "1016/1016 [==============================] - 0s 121us/step - loss: 0.0146 - acc: 0.9931\n",
            "Epoch 74/100\n",
            "1016/1016 [==============================] - 0s 130us/step - loss: 0.0148 - acc: 0.9882\n",
            "Epoch 75/100\n",
            "1016/1016 [==============================] - 0s 124us/step - loss: 0.0158 - acc: 0.9902\n",
            "Epoch 76/100\n",
            "1016/1016 [==============================] - 0s 118us/step - loss: 0.0153 - acc: 0.9902\n",
            "Epoch 77/100\n",
            "1016/1016 [==============================] - 0s 115us/step - loss: 0.0156 - acc: 0.9911\n",
            "Epoch 78/100\n",
            "1016/1016 [==============================] - 0s 118us/step - loss: 0.0174 - acc: 0.9892\n",
            "Epoch 79/100\n",
            "1016/1016 [==============================] - 0s 126us/step - loss: 0.0163 - acc: 0.9892\n",
            "Epoch 80/100\n",
            "1016/1016 [==============================] - 0s 119us/step - loss: 0.0143 - acc: 0.9882\n",
            "Epoch 81/100\n",
            "1016/1016 [==============================] - 0s 121us/step - loss: 0.0157 - acc: 0.9882\n",
            "Epoch 82/100\n",
            "1016/1016 [==============================] - 0s 123us/step - loss: 0.0155 - acc: 0.9892\n",
            "Epoch 83/100\n",
            "1016/1016 [==============================] - 0s 130us/step - loss: 0.0170 - acc: 0.9892\n",
            "Epoch 84/100\n",
            "1016/1016 [==============================] - 0s 122us/step - loss: 0.0158 - acc: 0.9911\n",
            "Epoch 85/100\n",
            "1016/1016 [==============================] - 0s 116us/step - loss: 0.0161 - acc: 0.9911\n",
            "Epoch 86/100\n",
            "1016/1016 [==============================] - 0s 120us/step - loss: 0.0159 - acc: 0.9892\n",
            "Epoch 87/100\n",
            "1016/1016 [==============================] - 0s 128us/step - loss: 0.0149 - acc: 0.9902\n",
            "Epoch 88/100\n",
            "1016/1016 [==============================] - 0s 114us/step - loss: 0.0158 - acc: 0.9892\n",
            "Epoch 89/100\n",
            "1016/1016 [==============================] - 0s 123us/step - loss: 0.0152 - acc: 0.9902\n",
            "Epoch 90/100\n",
            "1016/1016 [==============================] - 0s 118us/step - loss: 0.0135 - acc: 0.9931\n",
            "Epoch 91/100\n",
            "1016/1016 [==============================] - 0s 124us/step - loss: 0.0152 - acc: 0.9892\n",
            "Epoch 92/100\n",
            "1016/1016 [==============================] - 0s 123us/step - loss: 0.0144 - acc: 0.9902\n",
            "Epoch 93/100\n",
            "1016/1016 [==============================] - 0s 116us/step - loss: 0.0152 - acc: 0.9902\n",
            "Epoch 94/100\n",
            "1016/1016 [==============================] - 0s 117us/step - loss: 0.0142 - acc: 0.9902\n",
            "Epoch 95/100\n",
            "1016/1016 [==============================] - 0s 119us/step - loss: 0.0143 - acc: 0.9892\n",
            "Epoch 96/100\n",
            "1016/1016 [==============================] - 0s 129us/step - loss: 0.0152 - acc: 0.9902\n",
            "Epoch 97/100\n",
            "1016/1016 [==============================] - 0s 118us/step - loss: 0.0150 - acc: 0.9892\n",
            "Epoch 98/100\n",
            "1016/1016 [==============================] - 0s 118us/step - loss: 0.0152 - acc: 0.9882\n",
            "Epoch 99/100\n",
            "1016/1016 [==============================] - 0s 112us/step - loss: 0.0155 - acc: 0.9911\n",
            "Epoch 100/100\n",
            "1016/1016 [==============================] - 0s 130us/step - loss: 0.0140 - acc: 0.9911\n"
          ],
          "name": "stdout"
        }
      ]
    },
    {
      "cell_type": "code",
      "metadata": {
        "id": "V5h16U11YSee",
        "colab_type": "code",
        "outputId": "4650b4e6-11c5-410f-e17e-aa334bd2fac5",
        "colab": {
          "base_uri": "https://localhost:8080/",
          "height": 757
        }
      },
      "source": [
        "model.save('model_ChatBot.h5')\n",
        "history_dict = history.history\n",
        "history_dict.keys()\n",
        "acc = history.history['acc']\n",
        "loss = history.history['loss']\n",
        "epochs = range(1, len(acc) + 1)\n",
        "plt.figure(figsize=(10,5))\n",
        "plt.plot(epochs, acc,'bo', label='Training acc')\n",
        "plt.xlabel('Number of Epochs',fontsize=30)\n",
        "plt.ylabel('Accuracy',fontsize=30)\n",
        "plt.xticks(fontsize=30)\n",
        "plt.yticks(fontsize=30)\n",
        "\n",
        "plt.title('Training and validation accuracy',fontsize=30)\n",
        "plt.legend(loc=\"lower right\",fontsize=20)\n",
        "plt.figure(figsize=(10,5))\n",
        "plt.plot(epochs, loss, 'bo', label='Training loss')\n",
        "plt.title('Training and validation loss',fontsize=20)\n",
        "\n",
        "plt.legend(fontsize=20)\n",
        "plt.xlabel('Number of Epochs',fontsize=20)\n",
        "plt.ylabel('Loss',fontsize=20)\n",
        "plt.xticks(fontsize=20)\n",
        "plt.yticks(fontsize=20)\n",
        "\n",
        "plt.show()"
      ],
      "execution_count": 9,
      "outputs": [
        {
          "output_type": "display_data",
          "data": {
            "image/png": "[encoded data removed]",
            "text/plain": [
              "<Figure size 720x360 with 1 Axes>"
            ]
          },
          "metadata": {
            "tags": []
          }
        },
        {
          "output_type": "display_data",
          "data": {
            "image/png": "[encoded data removed]",
            "text/plain": [
              "<Figure size 720x360 with 1 Axes>"
            ]
          },
          "metadata": {
            "tags": []
          }
        }
      ]
    },
    {
      "cell_type": "code",
      "metadata": {
        "id": "wwp46v0eeGPe",
        "colab_type": "code",
        "colab": {}
      },
      "source": [
        "def clean_up_sentence(sentence):\n",
        "    # tokenize the pattern\n",
        "    sentence_words = nltk.word_tokenize(sentence)\n",
        "    # stem each word\n",
        "    sentence_words = [lemmatizer.lemmatize(word.lower()) for word in sentence_words]\n",
        "    return sentence_words\n",
        "\n",
        "# return bag of words array: 0 or 1 for each word in the bag that exists in the sentence\n",
        "def bow(sentence, words, show_details=True):\n",
        "    # tokenize the pattern\n",
        "    sentence_words = clean_up_sentence(sentence)\n",
        "    # bag of words\n",
        "    bag = [0]*len(words) \n",
        "    for s in sentence_words:\n",
        "        for i,w in enumerate(words):\n",
        "            if w == s: \n",
        "                bag[i] = 1\n",
        "                if show_details:\n",
        "                    print (\"found in bag:\", w)\n",
        "\n",
        "    return(np.array(bag))"
      ],
      "execution_count": 0,
      "outputs": []
    },
    {
      "cell_type": "code",
      "metadata": {
        "id": "Ho52ocbZeQgh",
        "colab_type": "code",
        "colab": {}
      },
      "source": [
        "# create a data structure to hold user context\n",
        "context = {}\n",
        "\n",
        "ERROR_THRESHOLD = 0.55\n",
        "def classify(sentence):\n",
        "    # generate probabilities from the model\n",
        "    p = bow(sentence, words)\n",
        "    d = len(p)\n",
        "    f = len(documents)-2\n",
        "    a = np.zeros([f, d])\n",
        "    tot = np.vstack((p,a))\n",
        "    \n",
        "    results = model.predict(tot)[0]\n",
        "    #print(\"Model preditions: \", len(results))\n",
        "    #for i in results:\n",
        "     # print(i*100)\n",
        "    \n",
        "    # filter out predictions below a threshold\n",
        "    results = [[i,r] for i,r in enumerate(results) if r>ERROR_THRESHOLD]\n",
        "    # sort by strength of probability\n",
        "    results.sort(key=lambda x: x[1], reverse=True)\n",
        "    return_list = []\n",
        "    for r in results:\n",
        "        return_list.append((classes[r[0]], r[1]))\n",
        "    # return tuple of intent and probability\n",
        "    #print(\"Return list \", len(return_list))\n",
        "    #print(return_list)\n",
        "    return return_list\n",
        "\n",
        "def response(sentence, userID, actual_tag_list, show_details=False):\n",
        "    results = classify(sentence)\n",
        "    result = results[0]\n",
        "    print('Resulting Intent:',result[0])\n",
        "    print('Probability:',result[1])\n",
        "    # if we have a classification then find the matching intent tag\n",
        "    if results:\n",
        "        # loop as long as there are matches to process\n",
        "        while results:\n",
        "            for i in intents['intents']:\n",
        "                # find a tag matching the first result\n",
        "                if i['tag'] == results[0][0]:\n",
        "                    # set context for this intent if necessary\n",
        "                    if 'context_set' in i:\n",
        "                        if show_details: print ('context:', i['context_set'])\n",
        "                        context[userID] = i['context_set']\n",
        "\n",
        "                    # check if this intent is contextual and applies to this user's conversation\n",
        "                    if not 'context_filter' in i or \\\n",
        "                        (userID in context and 'context_filter' in i and i['context_filter'] == context[userID]):\n",
        "                        if show_details: \n",
        "                          print ('Intent Tag:', i['tag'])\n",
        "                          if (i['tag']!=['']):\n",
        "                            actual_tag_list.append(i['tag'])\n",
        "                          if (i['tag']==['']):\n",
        "                            actual_tag_list.append(\"emptytag\")\n",
        "                        # a random response from the intent\n",
        "                        print(random.choice(i['responses']))\n",
        "                        return (random.choice(i['responses']), actual_tag_list)\n",
        "            results.pop(0)"
      ],
      "execution_count": 0,
      "outputs": []
    },
    {
      "cell_type": "code",
      "metadata": {
        "id": "B3IcsYg0t2BD",
        "colab_type": "code",
        "outputId": "34c598a5-bb97-4991-931c-d4d42d289e58",
        "colab": {
          "base_uri": "https://localhost:8080/",
          "height": 863
        }
      },
      "source": [
        "#Testing\n",
        "query_list = [\"How can I get admission in B.Tech?\", \"Highest package of btech\", \"Hey can you tell me about the college campus\", \"Compare between cs and it\", \"Why computer and why not it\", \"Btech integrated admissions\", \"Tell me about yourself\", \"btech integrated details\", \"how much does a course costs\", \"should i go for engineering in civil\", \"give me placement results\", \"can you provide contact information\",\"Programs offered?\",\"Courses offered?\",\"PG programs?\",\"MBA Tech placements?\",\"International Companies on campus?\",\"Hostel Facilities?\",\"Can I get information on fee structure for B.Tech course?\",\"MPSTME campus?\",\"Data Science\",\"Compare B.Tech and MBA Tech\",\"Why should I opt for MCA?\",\"Can you assist me with M.Tech admission process?\",\"Take me to college website\",\"Courses offered at Shirpur Campus?\",\"Library Facilities\",\"List of phd courses\",\"List of M.Tech courses\",\"Programs\",\"Phd\",\"PhD mentor list\",\"Course Structure\",\"Fees for PhD\",\"Discipline for PhD\",\"How to apply?\",\"How to apply for PhD admission?\",\"Whats about placement?\",\"International Firms\",\"Do you have any scholarship?\",\"Stipend in masters program?\",\"Postgraduate program\",\"Seats for PhD\",\"Intake for post graduation\",\"Seats in B.Tech\",\"Intake for B.Tech\",\"Intake for MCA\",\"Entrance procedure for B.Tech\",\"Admission in B.Tech\",\"MBA Tech. Admissions\"]\n",
        "\n",
        "expected_tag_list = [\"btechandmbatechadmissions\", \"placements\", \"campus\", \"itVsCS\", \"itVsCS\", \"otherprogramsadmissions\", \"aboutcollege\", \"CourseB.TechInt\", \"generalfeestructure\", \"whyCivil\", \"placements\", \"contactDetails\", \"generalPrograms\", \"generalCourses\", \"postgradprograms\", \"placements\", \"placements\", \"hostelInfo\", \"generalfeestructure\", \"campus\", \"streamDataScience\", \"btechVSmbatech\", \"whyMCA\", \"otherprogramsadmissions\", \"aboutcollege\", \"generalCourse\", \"campus\", \"CoursePhD\", \"CourseM.Tech\", \"ambiguousQueries\", \"ambiguousQueries\", \"CoursePhD\", \"courseStructure\", \"generalfeestructure\", \"CoursePhD\", \"otherprogramsadmissions\", \"otherprogramsadmissions\", \"placements\", \"placements\", \"scholarship\", \"CoursePhD\", \"postgradprograms\", \"CoursePhD\", \"postgradprograms\", \"CourseB.Tech\", \"CourseB.Tech\", \"CourseMCA\", \"btechandmbatechadmissions\", \"btechandmbatechadmissions\", \"btechandmbatechadmissions\"]\n",
        "actual_tag_list = []\n",
        "print(len(query_list))\n",
        "for i in query_list:\n",
        "  ans = response(i, \"123\", actual_tag_list, show_details = True)\n",
        "  #print(ans[0])\n",
        "  \n",
        "print(len(query_list))\n",
        "print(len(expected_tag_list))\n",
        "print(len(ans[1]))\n",
        "\n",
        "import matplotlib.pyplot as plt\n",
        "\n",
        "passed = 32\n",
        "failed = 18\n",
        "  \n",
        "\n",
        "print(\"Test cases passed: \", passed)\n",
        "print(\"Test cases failed: \", failed)\n",
        "      \n",
        "PassPercent = (passed*100)/50\n",
        "print(PassPercent)\n"
      ],
      "execution_count": 14,
      "outputs": [
        {
          "output_type": "stream",
          "text": [
            "50\n",
            "found in bag: how\n",
            "found in bag: can\n",
            "found in bag: i\n",
            "found in bag: get\n",
            "found in bag: admission\n",
            "found in bag: in\n",
            "found in bag: b.tech\n",
            "Resulting Intent: btechandmbatechadmissions\n",
            "Probability: 0.99995327\n",
            "Intent Tag: btechandmbatechadmissions\n",
            "Engineering aspirants interested for MBA Tech and BTech programs need to appear for NPAT. Admissions will be granted to various courses based on NPAT scores. You may follow the link for more information on NPAT - https://www.nmims.edu/docs/announcement-new-npat-pattern-for-engineering-programs.pdf\n",
            "found in bag: highest\n",
            "found in bag: package\n",
            "found in bag: of\n",
            "found in bag: btech\n",
            "Resulting Intent: placements\n",
            "Probability: 0.9118756\n",
            "Intent Tag: placements\n",
            "At MPSTME, we have a dedicated Placement Cell to help students get good internship and placement opportunities. We help students connect with some of the best companies in market, like EY, Nomura, Mahindra, Infosys, etc. For an overview of placements please visit the following link: https://engineering.nmims.edu/students/placements/ . For BTech - International offers - Highest Package: 37.84 LPA INR, Average Package: 37.22 LPA INR. Domestic Packages - Highest Package: 12.4 LPA INR, Average Package: 4 LPA INR. For MBATech - Highest Package – 30 LPA INR, Average Package: 8.06 LPA INR\n",
            "found in bag: hey\n",
            "found in bag: can\n",
            "found in bag: you\n",
            "found in bag: tell\n",
            "found in bag: me\n",
            "found in bag: about\n",
            "found in bag: the\n",
            "found in bag: college\n",
            "found in bag: campus\n"
          ],
          "name": "stdout"
        },
        {
          "output_type": "error",
          "ename": "IndexError",
          "evalue": "ignored",
          "traceback": [
            "\u001b[0;31m---------------------------------------------------------------------------\u001b[0m",
            "\u001b[0;31mIndexError\u001b[0m                                Traceback (most recent call last)",
            "\u001b[0;32m<ipython-input-14-4b7f664accb9>\u001b[0m in \u001b[0;36m<module>\u001b[0;34m()\u001b[0m\n\u001b[1;32m      5\u001b[0m \u001b[0mprint\u001b[0m\u001b[0;34m(\u001b[0m\u001b[0mlen\u001b[0m\u001b[0;34m(\u001b[0m\u001b[0mquery_list\u001b[0m\u001b[0;34m)\u001b[0m\u001b[0;34m)\u001b[0m\u001b[0;34m\u001b[0m\u001b[0;34m\u001b[0m\u001b[0m\n\u001b[1;32m      6\u001b[0m \u001b[0;32mfor\u001b[0m \u001b[0mi\u001b[0m \u001b[0;32min\u001b[0m \u001b[0mquery_list\u001b[0m\u001b[0;34m:\u001b[0m\u001b[0;34m\u001b[0m\u001b[0;34m\u001b[0m\u001b[0m\n\u001b[0;32m----> 7\u001b[0;31m   \u001b[0mans\u001b[0m \u001b[0;34m=\u001b[0m \u001b[0mresponse\u001b[0m\u001b[0;34m(\u001b[0m\u001b[0mi\u001b[0m\u001b[0;34m,\u001b[0m \u001b[0;34m\"123\"\u001b[0m\u001b[0;34m,\u001b[0m \u001b[0mactual_tag_list\u001b[0m\u001b[0;34m,\u001b[0m \u001b[0mshow_details\u001b[0m \u001b[0;34m=\u001b[0m \u001b[0;32mTrue\u001b[0m\u001b[0;34m)\u001b[0m\u001b[0;34m\u001b[0m\u001b[0;34m\u001b[0m\u001b[0m\n\u001b[0m\u001b[1;32m      8\u001b[0m   \u001b[0;31m#print(ans[0])\u001b[0m\u001b[0;34m\u001b[0m\u001b[0;34m\u001b[0m\u001b[0;34m\u001b[0m\u001b[0m\n\u001b[1;32m      9\u001b[0m \u001b[0;34m\u001b[0m\u001b[0m\n",
            "\u001b[0;32m<ipython-input-13-ab5dc340cd02>\u001b[0m in \u001b[0;36mresponse\u001b[0;34m(sentence, userID, actual_tag_list, show_details)\u001b[0m\n\u001b[1;32m     29\u001b[0m \u001b[0;32mdef\u001b[0m \u001b[0mresponse\u001b[0m\u001b[0;34m(\u001b[0m\u001b[0msentence\u001b[0m\u001b[0;34m,\u001b[0m \u001b[0muserID\u001b[0m\u001b[0;34m,\u001b[0m \u001b[0mactual_tag_list\u001b[0m\u001b[0;34m,\u001b[0m \u001b[0mshow_details\u001b[0m\u001b[0;34m=\u001b[0m\u001b[0;32mFalse\u001b[0m\u001b[0;34m)\u001b[0m\u001b[0;34m:\u001b[0m\u001b[0;34m\u001b[0m\u001b[0;34m\u001b[0m\u001b[0m\n\u001b[1;32m     30\u001b[0m     \u001b[0mresults\u001b[0m \u001b[0;34m=\u001b[0m \u001b[0mclassify\u001b[0m\u001b[0;34m(\u001b[0m\u001b[0msentence\u001b[0m\u001b[0;34m)\u001b[0m\u001b[0;34m\u001b[0m\u001b[0;34m\u001b[0m\u001b[0m\n\u001b[0;32m---> 31\u001b[0;31m     \u001b[0mresult\u001b[0m \u001b[0;34m=\u001b[0m \u001b[0mresults\u001b[0m\u001b[0;34m[\u001b[0m\u001b[0;36m0\u001b[0m\u001b[0;34m]\u001b[0m\u001b[0;34m\u001b[0m\u001b[0;34m\u001b[0m\u001b[0m\n\u001b[0m\u001b[1;32m     32\u001b[0m     \u001b[0mprint\u001b[0m\u001b[0;34m(\u001b[0m\u001b[0;34m'Resulting Intent:'\u001b[0m\u001b[0;34m,\u001b[0m\u001b[0mresult\u001b[0m\u001b[0;34m[\u001b[0m\u001b[0;36m0\u001b[0m\u001b[0;34m]\u001b[0m\u001b[0;34m)\u001b[0m\u001b[0;34m\u001b[0m\u001b[0;34m\u001b[0m\u001b[0m\n\u001b[1;32m     33\u001b[0m     \u001b[0mprint\u001b[0m\u001b[0;34m(\u001b[0m\u001b[0;34m'Probability:'\u001b[0m\u001b[0;34m,\u001b[0m\u001b[0mresult\u001b[0m\u001b[0;34m[\u001b[0m\u001b[0;36m1\u001b[0m\u001b[0;34m]\u001b[0m\u001b[0;34m)\u001b[0m\u001b[0;34m\u001b[0m\u001b[0;34m\u001b[0m\u001b[0m\n",
            "\u001b[0;31mIndexError\u001b[0m: list index out of range"
          ]
        }
      ]
    },
    {
      "cell_type": "code",
      "metadata": {
        "id": "E3eXk-eJGIhk",
        "colab_type": "code",
        "colab": {
          "base_uri": "https://localhost:8080/",
          "height": 224
        },
        "outputId": "555379d0-d6e5-4abf-9fca-e5dea8195ef3"
      },
      "source": [
        "response(\"how can i reach college?\", \"123\",actual_tag_list, show_details = True)"
      ],
      "execution_count": 15,
      "outputs": [
        {
          "output_type": "stream",
          "text": [
            "found in bag: how\n",
            "found in bag: can\n",
            "found in bag: i\n",
            "found in bag: reach\n",
            "found in bag: college\n",
            "Resulting Intent: contactDetails\n",
            "Probability: 0.9984549\n",
            "Intent Tag: contactDetails\n",
            "You can reach us at: Bhakti Vedant Swami Marg, Near Cooper Hospital, JVPD Scheme, Vile Parle (West), Mumbai. Maharashtra- 400 056, India. Tel. No: (+91 22 4233 4000) Email: (enquiry.mpstme@nmims.edu) / (admissions.MPSTME@nmims.edu)\n"
          ],
          "name": "stdout"
        },
        {
          "output_type": "execute_result",
          "data": {
            "text/plain": [
              "('You can reach us at: Bhakti Vedant Swami Marg, Near Cooper Hospital, JVPD Scheme, Vile Parle (West), Mumbai. Maharashtra- 400 056, India. Tel. No: (+91 22 4233 4000) Email: (enquiry.mpstme@nmims.edu) / (admissions.MPSTME@nmims.edu)',\n",
              " ['btechandmbatechadmissions', 'placements', 'contactDetails'])"
            ]
          },
          "metadata": {
            "tags": []
          },
          "execution_count": 15
        }
      ]
    },
    {
      "cell_type": "code",
      "metadata": {
        "id": "U4fRqjQnGUBz",
        "colab_type": "code",
        "colab": {
          "base_uri": "https://localhost:8080/",
          "height": 221
        },
        "outputId": "6dae2750-eac0-4233-8e89-383b4e96eb8f"
      },
      "source": [
        "response(\"who is the dean of the college?\", \"123\",actual_tag_list, show_details = True)"
      ],
      "execution_count": 16,
      "outputs": [
        {
          "output_type": "stream",
          "text": [
            "found in bag: is\n",
            "found in bag: the\n",
            "found in bag: dean\n",
            "found in bag: of\n",
            "found in bag: the\n",
            "found in bag: college\n",
            "Resulting Intent: dean\n",
            "Probability: 0.9988788\n",
            "Intent Tag: dean\n",
            "Dr. N. T. Rao\n"
          ],
          "name": "stdout"
        },
        {
          "output_type": "execute_result",
          "data": {
            "text/plain": [
              "('Dr. N. T. Rao',\n",
              " ['btechandmbatechadmissions', 'placements', 'contactDetails', 'dean'])"
            ]
          },
          "metadata": {
            "tags": []
          },
          "execution_count": 16
        }
      ]
    },
    {
      "cell_type": "code",
      "metadata": {
        "id": "2F3A0oNWvUKN",
        "colab_type": "code",
        "colab": {
          "base_uri": "https://localhost:8080/",
          "height": 275
        },
        "outputId": "0d27da6f-b1e7-4f21-c61d-10e0be54ddd7"
      },
      "source": [
        "response(\"which is better CS or IT\", \"123\",actual_tag_list, show_details = True)"
      ],
      "execution_count": 17,
      "outputs": [
        {
          "output_type": "stream",
          "text": [
            "found in bag: which\n",
            "found in bag: is\n",
            "found in bag: c\n",
            "found in bag: it\n",
            "Resulting Intent: streamComputer\n",
            "Probability: 0.82703406\n",
            "Intent Tag: streamComputer\n",
            "We play a significant role in creating Computer Engineering Graduates with sound technical and managerial skills of value to industry and society both at national and international level.We provide Computer Engineering Stream in the following courses: B. Tech, B. Tech Integrated, MBA Tech, M. Tech\n"
          ],
          "name": "stdout"
        },
        {
          "output_type": "execute_result",
          "data": {
            "text/plain": [
              "('We play a significant role in creating Computer Engineering Graduates with sound technical and managerial skills of value to industry and society both at national and international level.We provide Computer Engineering Stream in the following courses: B. Tech, B. Tech Integrated, MBA Tech, M. Tech',\n",
              " ['btechandmbatechadmissions',\n",
              "  'placements',\n",
              "  'contactDetails',\n",
              "  'dean',\n",
              "  'streamComputer'])"
            ]
          },
          "metadata": {
            "tags": []
          },
          "execution_count": 17
        }
      ]
    }
  ]
}